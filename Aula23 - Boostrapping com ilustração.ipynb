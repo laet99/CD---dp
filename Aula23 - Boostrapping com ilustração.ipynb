{
 "cells": [
  {
   "cell_type": "markdown",
   "metadata": {},
   "source": [
    "# Boostrapping - Intervalo de confiança para tomada de decisão"
   ]
  },
  {
   "cell_type": "markdown",
   "metadata": {},
   "source": [
    "## Aula 23\n",
    "\n",
    "**Preparo Prévio:**\n",
    "1. Magalhães e Lima, seção 7.4. Concentrar-se em intervalo de confiança para média amostra\n",
    "1. Bootstrapping - https://www.thoughtco.com/example-of-bootstrapping-3126155\n",
    "1. Bootstrapping - https://www.stat.auckland.ac.nz/~wild/BootAnim/\n",
    "\n",
    "**Hoje:**\n",
    "1. Entender e implementar o método não paramétrico de Bootstrapping \n",
    "\n",
    "**Próxima aula:**\n",
    "1. Montogmery. Seção 6-2 - Simple Linear Regression\n",
    "1. Magalhães e Lima, seção 9.5. Regressão Linear Simples\n",
    "\n",
    "___\n"
   ]
  },
  {
   "cell_type": "markdown",
   "metadata": {},
   "source": [
    "___\n",
    "# Bootstrapping\n",
    "\n",
    "## Solução: Métodos não paramétricos\n",
    "\n",
    "Bootstrapping é um método de reamostragem com reposição que consiste em recuperar a distribuição de uma medida de interesse a partir de uma amostra mestre. Por exemplo, podemos utilizar a média como medida de interesse, mas a distribuição de outras medidas também pode ser estimadas, como por exemplo variância, mediana, etc.\n",
    "\n",
    "Reamostragem com reposição significa que um mesmo elemento pode ser selecionado várias vezes, assim como outro elemento pode não ser escolhido. Seria equivalente a sortear um número e por de volta na urna.\n",
    "\n",
    "### Como funciona\n",
    "\n",
    "Dada um conjunto com a amostra mestre aleatória $x_1, x_2,..., x_n$ de uma população qualquer, devemos sortear consecutivamente, com reposição, conjuntos de tamanho também $n$ dessa amostra amostra mestre. Esses conjuntos são chamados de reamostragem e esse processo deve ser feito milhares de vezes.\n",
    "\n",
    "A cada reamostragem deve-se aplicar a medida de interesse, nesse caso a média, e guardar em uma lista. Ao fim das milhares de reamostragens, teremos uma distribuição da medida desejada. \n",
    "\n",
    "De posse desta distribuição, podemos calcular o Intervalo de Confiança por meio dos seus percentis fixando a confiança que se deseja no mesmo."
   ]
  },
  {
   "cell_type": "markdown",
   "metadata": {},
   "source": [
    "<img src=\"Bootstrap.png\"/>\n",
    "<center><sup>**Figura 1.** Ilustração da técnica Bootstrap - reamostragens da amostra mestre (extraído e adaptado de http://robertovitillo.com/2015/03/15/confidence-intervals-and-hypothesis-tests-for-engineers/).</sup></center>\n",
    "\n",
    "\n",
    "Devido a sua generalidade, a técnica Bootstrap se encaixa na solução de problemas complexos que queiram utilizar outra informação numérica populacional (parâmetro de interesse) que não seja necessariamente a média populacional. \n",
    "Por meio dessa técnica, os parâmetros como média, variância, proporção e até mesmo parâmetros menos utilizados como o máximo, mínimo ou mediana de uma população podem ser estimados pontualmente e por intervalo.\n",
    "\n",
    "A distribuição Bootstrap geralmente tem a mesma forma e amplitude que a distribuição amostral da estatística, porém a primeira está centrada na estatística dos dados originais (amostra mestre), enquanto a segunda está centrada no parâmetro da população. Assim, se o objetivo for estudar a média populacional ($\\mu$), a distribuição Bootstrap será construída com as médias das reamostras ($\\bar{x}^*_j$), com $j=1,\\ldots,B$ e estará centrada na média da amostra mestre ($\\bar{x}$); enquanto a distribuição das médias amostrais obtidas da população ($\\bar{X}$) está centrada em $\\mu$ conforme descreve o Teorema do Limite Central (TLC) e conforme visto na simulação do Encontro 12.\n",
    "\n",
    "<img src=\"DistBootstrap.png\"/>\n",
    "<center><sup>**Figura 2.** Construção da distribuição Bootstrap a partir das médias das reamostras.</sup></center>"
   ]
  },
  {
   "cell_type": "markdown",
   "metadata": {},
   "source": [
    "___\n",
    "# Intervalo de confiança Bootstrap\n",
    "\n",
    "\n",
    "** Intervalo de Confiança Bootstrap Percentil **\n",
    "\n",
    "$IC(\\mu;\\gamma) = \\left(q_{\\frac{1-\\gamma}{2}}; q_{\\frac{1+\\gamma}{2}} \\right),$\n",
    "\n",
    "sendo $q_{\\frac{1-\\gamma}{2}}$ o quantil de ordem ((1-$\\gamma$)/2)100$\\%$ e $q_{\\frac{1+\\gamma}{2}}$ o quantil de ordem ((1+$\\gamma$)/2)100$\\%$ das médias das reamostras, ou seja, os quantis das  médias $\\bar{x}^*_j$, com $j=1,\\ldots,B$.\n",
    "\n",
    "** Observação: **\n",
    "A técnica Boostrap nos permite verificar o vício olhando se a distribuição das médias reamostradas (distribuição Bootstrap) está centrada na média da amostra mestre, ou seja, no caso, avaliar a diferença entre $\\bar{\\bar{x}}^*$ e $\\bar{x}$. Caso essa diferença seja grande ou se os intervalos de confiança construídos não sejam parecidos, é necessário buscar outros intervalos de confiança que façam a correção desse viés. Não abordaremos aqui!\n",
    "\n",
    "___\n"
   ]
  },
  {
   "cell_type": "markdown",
   "metadata": {},
   "source": [
    "**Algoritmo**\n",
    " \n",
    "   1. Repetir 10.000 vezes:\n",
    "           1.1. Realizar um sorteio com reposição da amostra mestre. Usar a função choice() do numpy.\n",
    "           1.2. Calcular a medida de interesse da reamostragem e guardar em uma lista.\n",
    "   2. Plotar o histograma dessa lista de medidas de calculadas anteriormente.\n",
    "   3. A partir da lista, encontrar os percentis de ordem $\\alpha/2$ e $(1-\\alpha)/2$ para construir Intervalo de Confiança Boostrap, sendo $\\alpha=1-\\gamma$.\n",
    "   4. Se objetivo for tomada de decisão, avalie se o valor sob alguma hipótese faz parte ou não do intervalo de confiança construído!\n",
    "\n",
    "___\n",
    "    "
   ]
  },
  {
   "cell_type": "code",
   "execution_count": 3,
   "metadata": {
    "collapsed": true
   },
   "outputs": [],
   "source": [
    "import numpy as np\n",
    "import matplotlib as plt\n",
    "import pandas as pd\n",
    "from scipy import stats\n",
    "import math\n",
    "import random\n",
    "\n",
    "%matplotlib inline\n"
   ]
  },
  {
   "cell_type": "markdown",
   "metadata": {},
   "source": [
    "___\n",
    "# Exercício do Termopar - Determinação de intervalo de confiança\n",
    "\n",
    "O tempo de vida, em horas, de um termopar* usado em fornalhas é suposto ser aproximadamente normal. Uma amostra aleatória de 15 termopares resultaram nos seguintes tempos:\n",
    "\n",
    "`553, 552, 567, 579, 550, 541, 537, 553, 552, 546, 538, 553, 581, 539, 529`\n",
    "\n",
    "A empresa diz que um termopar deve durar, em média, 560 horas. Há evidências de que essa afirmação seja verdadeira? Considere um coeficiente de confiança de 95%.\n"
   ]
  },
  {
   "cell_type": "code",
   "execution_count": 4,
   "metadata": {
    "collapsed": true
   },
   "outputs": [],
   "source": [
    "dados = [553, 552, 567, 579, 550, 541, 537, 553, 552, 546, 538, 553, 581, 539, 529]\n",
    "dados = pd.Series(dados)\n",
    "n = len(dados)"
   ]
  },
  {
   "cell_type": "code",
   "execution_count": 5,
   "metadata": {},
   "outputs": [
    {
     "name": "stdout",
     "output_type": "stream",
     "text": [
      "Média:  551.3333333333334\n",
      "Desvio padrão amostral:  14.811514182586208\n"
     ]
    }
   ],
   "source": [
    "#Estimativas\n",
    "xbarra = np.mean(dados)\n",
    "dp = np.std(dados,ddof=1)\n",
    "\n",
    "print(\"Média: \", xbarra)\n",
    "print(\"Desvio padrão amostral: \", dp)"
   ]
  },
  {
   "cell_type": "code",
   "execution_count": 6,
   "metadata": {
    "collapsed": true
   },
   "outputs": [],
   "source": [
    "#Construção das Reamostragens da amostra mestre (dados) com reposição\n",
    "n = 10\n",
    "xbarra_Boot = []\n",
    "\n",
    "B = 15000\n",
    "for i in range(B):\n",
    "    xbarra = np.mean(np.random.choice(dados, n, replace=True))\n",
    "    xbarra_Boot.append(xbarra)\n",
    "xbarra_Boot = pd.Series(xbarra_Boot)"
   ]
  },
  {
   "cell_type": "code",
   "execution_count": 7,
   "metadata": {},
   "outputs": [
    {
     "name": "stdout",
     "output_type": "stream",
     "text": [
      "543.0 560.7025\n"
     ]
    }
   ],
   "source": [
    "#xbarra_Boot.plot.hist(color='black')\n",
    "ce = np.percentile(xbarra_Boot, 2.5)\n",
    "cd = np.percentile(xbarra_Boot, 100-2.5)\n",
    "print(ce,cd)"
   ]
  },
  {
   "cell_type": "markdown",
   "metadata": {
    "collapsed": true
   },
   "source": [
    "Deu certo uhul"
   ]
  },
  {
   "cell_type": "markdown",
   "metadata": {},
   "source": [
    "___\n",
    "\n",
    "# Qualidade da linha de produção\n",
    "\n",
    "As latas de certa marca de refrigerante apresentam em seu rótulo o volume de 350 ml. Ainda, um órgão regulador diz que a dispersão dessas quantidades deve ser no máximo de 10 ml em seu conteúdo. \n",
    "\n",
    "** Linha de produção deve ser parada? **\n",
    "\n",
    "Conjectura 1: O fabricante deseja testar se o conteúdo médio das latas é igual a 350 ml, como anunciado no rótulo. Isto equivale a verificar se a máquina está regulada para colocar 350 ml, ou não, nas latas. \n",
    "\n",
    "Conjectura 2: O fabricante deseja avaliar se a variabilidade dos conteúdos está sendo respeitada ou não.\n",
    "\n",
    "\n",
    "Para averiguar tais hipóteses do fabricante, foi coletada uma amostra de 36 latas do refrigerante em pontos de comercialização e mediu-se o conteúdo destas latas.\n",
    "\n",
    "Os resultados obtidos na amostra foram:\n",
    "\n",
    "dados = [344.5,  352.9,  355.0,  348.8,\n",
    "        \t342.0,  344.7,  346.9,  340.9,\n",
    "            357.7,  341.2,  347.1,  365.3,\n",
    "            340.3,  343.2,  342.6,  333.7,\n",
    "        \t341.9,  351.0,  348.0,  354.3,\n",
    "        \t344.9,  348.0,  346.4,  358.0,\n",
    "        \t340.2,  354.4,  349.7,  339.4,\n",
    "        \t338.8,  344.9,  330.4,  341.7,\n",
    "        \t336.7,  363.2,  355.9,  357.4]\n",
    "\n",
    "\n",
    "Avalie tais hipóteses com 95% de confiança?\n",
    "\n",
    "Responda se a linha de produção deve ser interrompida e por qual motivo?"
   ]
  },
  {
   "cell_type": "code",
   "execution_count": 8,
   "metadata": {
    "collapsed": true
   },
   "outputs": [],
   "source": [
    "dados = [344.5,  352.9,  355.0,  348.8,\n",
    "            342.0,  344.7,  346.9,  340.9,\n",
    "            357.7,  341.2,  347.1,  365.3,\n",
    "            340.3,  343.2,  342.6,  333.7,\n",
    "            341.9,  351.0,  348.0,  354.3,\n",
    "            344.9,  348.0,  346.4,  358.0,\n",
    "            340.2,  354.4,  349.7,  339.4,\n",
    "            338.8,  344.9,  330.4,  341.7,\n",
    "            336.7,  363.2,  355.9,  357.4]\n",
    "\n",
    "dados = pd.Series(dados)\n",
    "n = len(dados)"
   ]
  },
  {
   "cell_type": "code",
   "execution_count": 9,
   "metadata": {},
   "outputs": [
    {
     "name": "stdout",
     "output_type": "stream",
     "text": [
      "Média:  347.0\n",
      "Desvio padrão amostral:  7.990601622263139\n"
     ]
    }
   ],
   "source": [
    "xbarra = np.mean(dados)\n",
    "dp = np.std(dados,ddof=1)\n",
    "\n",
    "print(\"Média: \", xbarra)\n",
    "print(\"Desvio padrão amostral: \", dp)"
   ]
  },
  {
   "cell_type": "code",
   "execution_count": 10,
   "metadata": {
    "collapsed": true
   },
   "outputs": [],
   "source": [
    "xbarra_Boot = []\n",
    "\n",
    "B = 15000\n",
    "for i in range(B):\n",
    "    xbarra = np.mean(np.random.choice(dados, n, replace=True))\n",
    "    xbarra_Boot.append(xbarra)\n",
    "xbarra_Boot = pd.Series(xbarra_Boot)"
   ]
  },
  {
   "cell_type": "code",
   "execution_count": 11,
   "metadata": {},
   "outputs": [
    {
     "name": "stdout",
     "output_type": "stream",
     "text": [
      "344.472152778 349.647222222\n"
     ]
    }
   ],
   "source": [
    "ce = np.percentile(xbarra_Boot, 2.5)\n",
    "cd = np.percentile(xbarra_Boot, 100-2.5)\n",
    "print(ce,cd)"
   ]
  },
  {
   "cell_type": "code",
   "execution_count": 12,
   "metadata": {
    "collapsed": true
   },
   "outputs": [],
   "source": [
    "#Conjectura 2: lista deverá ser construída com desvios padrões amostrais\n",
    "\n",
    "#Continue..."
   ]
  },
  {
   "cell_type": "code",
   "execution_count": null,
   "metadata": {
    "collapsed": true
   },
   "outputs": [],
   "source": []
  },
  {
   "cell_type": "markdown",
   "metadata": {
    "collapsed": true
   },
   "source": [
    "___\n",
    "\n",
    "# Experimento dos resistores - APS7 (um dos exercícios)\n",
    "\n",
    "** Compraria o lote de resistores pelo valor médio e pela tolerância? **\n",
    "\n",
    "Use a sua amostra para concluir se compraria o lote de resistores pelo controle de qualidade tanto quanto aos $1000 k\\Omega$ e quanto aos $5\\%$ de tolerância.\n",
    "\n",
    "Use 95% de confiança para tomada de decisão!"
   ]
  },
  {
   "cell_type": "code",
   "execution_count": 13,
   "metadata": {
    "collapsed": true
   },
   "outputs": [],
   "source": [
    "dados = [1.035, 1.026,1.031,1.004,1.027,1.025,0.987,1.048,1.055,1.044,1.019,1.048,1.057]"
   ]
  },
  {
   "cell_type": "code",
   "execution_count": 14,
   "metadata": {},
   "outputs": [],
   "source": [
    "dados = pd.Series(dados)\n",
    "n = len(dados)"
   ]
  },
  {
   "cell_type": "code",
   "execution_count": 15,
   "metadata": {},
   "outputs": [
    {
     "name": "stdout",
     "output_type": "stream",
     "text": [
      "Média:  1.0312307692307692\n",
      "Desvio padrão amostral:  0.0202078938625225\n"
     ]
    }
   ],
   "source": [
    "xbarra = np.mean(dados)\n",
    "dp = np.std(dados,ddof=1)\n",
    "\n",
    "print(\"Média: \", xbarra)\n",
    "print(\"Desvio padrão amostral: \", dp)"
   ]
  },
  {
   "cell_type": "code",
   "execution_count": 16,
   "metadata": {
    "collapsed": true
   },
   "outputs": [],
   "source": [
    "xbarra_Boot = []\n",
    "\n",
    "B = 15000\n",
    "for i in range(B):\n",
    "    xbarra = np.mean(np.random.choice(dados, n, replace=True))\n",
    "    xbarra_Boot.append(xbarra)\n",
    "xbarra_Boot = pd.Series(xbarra_Boot)"
   ]
  },
  {
   "cell_type": "code",
   "execution_count": 19,
   "metadata": {},
   "outputs": [
    {
     "name": "stdout",
     "output_type": "stream",
     "text": [
      "1.02030576923 1.04130769231\n"
     ]
    }
   ],
   "source": [
    "ce = np.percentile(xbarra_Boot, 2.5)\n",
    "cd = np.percentile(xbarra_Boot, 100-2.5)\n",
    "print(ce,cd)"
   ]
  },
  {
   "cell_type": "code",
   "execution_count": null,
   "metadata": {
    "collapsed": true
   },
   "outputs": [],
   "source": []
  }
 ],
 "metadata": {
  "anaconda-cloud": {},
  "kernelspec": {
   "display_name": "Python 3",
   "language": "python",
   "name": "python3"
  },
  "language_info": {
   "codemirror_mode": {
    "name": "ipython",
    "version": 3
   },
   "file_extension": ".py",
   "mimetype": "text/x-python",
   "name": "python",
   "nbconvert_exporter": "python",
   "pygments_lexer": "ipython3",
   "version": "3.6.3"
  }
 },
 "nbformat": 4,
 "nbformat_minor": 1
}
